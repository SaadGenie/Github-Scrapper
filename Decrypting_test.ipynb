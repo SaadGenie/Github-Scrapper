{
 "cells": [
  {
   "cell_type": "code",
   "execution_count": 6,
   "metadata": {},
   "outputs": [
    {
     "name": "stdout",
     "output_type": "stream",
     "text": [
      "Email address not found.\n"
     ]
    }
   ],
   "source": [
    "import re\n",
    "import urllib.parse\n",
    "\n",
    "# The obfuscated email address\n",
    "obfuscated_email = \"4322222e2a316d302b222b3922272203362e376d2627366d3328\" \n",
    "\n",
    "# Extract the data-cfemail attribute from the span tag\n",
    "cfemail_match = re.search(r'data-cfemail=\"(.+?)\"', obfuscated_email)\n",
    "if cfemail_match:\n",
    "    cfemail = cfemail_match.group(1)\n",
    "    \n",
    "    # Deobfuscate the email address using a simple algorithm\n",
    "    email = ''.join([chr(int(cfemail[i:i+2], 16) ^ int(cfemail[-2:], 16)) for i in range(0, len(cfemail)-2, 2)])\n",
    "    \n",
    "    # URL decode the email address\n",
    "    decoded_email = urllib.parse.unquote(email)\n",
    "    print(decoded_email)\n",
    "else:\n",
    "    print(\"Email address not found.\")"
   ]
  },
  {
   "cell_type": "code",
   "execution_count": 1,
   "metadata": {},
   "outputs": [
    {
     "name": "stdout",
     "output_type": "stream",
     "text": [
      "aamir.shahzada@umt.edu.pk\n"
     ]
    }
   ],
   "source": [
    "def cfDecodeEmail(encodedString):\n",
    "    r = int(encodedString[:2],16)\n",
    "    email = ''.join([chr(int(encodedString[i:i+2], 16) ^ r) for i in range(2, len(encodedString), 2)])\n",
    "    return email\n",
    "\n",
    "print (cfDecodeEmail('d5b4b4b8bca7fba6bdb4bdafb4b1b495a0b8a1fbb0b1a0fba5be')) #"
   ]
  },
  {
   "cell_type": "code",
   "execution_count": 2,
   "metadata": {},
   "outputs": [
    {
     "name": "stdout",
     "output_type": "stream",
     "text": [
      "Extracted data-cfemail value: c1a0a0aca8b3efb2a9a0a9bba0a5a081b4acb5efa4a5b4efb1aa\n"
     ]
    }
   ],
   "source": [
    "import re\n",
    "\n",
    "# Given string\n",
    "input_string = '<a href=\"/cdn-cgi/l/email-protection#08696965617a267b60696072696c69487d657c266d6c7d267863\" id=\"ctl00_cphContent_aEmail\"><span class=\"__cf_email__\" data-cfemail=\"c1a0a0aca8b3efb2a9a0a9bba0a5a081b4acb5efa4a5b4efb1aa\">[email protected]</span></a>'\n",
    "\n",
    "# Regular expression pattern to match data-cfemail value\n",
    "pattern = r'data-cfemail=\"([\\w]+)\"'\n",
    "\n",
    "# Extract data-cfemail value using regex\n",
    "matches = re.findall(pattern, input_string)\n",
    "\n",
    "# Print the extracted value\n",
    "if matches:\n",
    "    cfemail_value = matches[0]\n",
    "    print(\"Extracted data-cfemail value:\", cfemail_value)\n",
    "else:\n",
    "    print(\"data-cfemail value not found in the input string.\")\n"
   ]
  }
 ],
 "metadata": {
  "kernelspec": {
   "display_name": "Python 3",
   "language": "python",
   "name": "python3"
  },
  "language_info": {
   "codemirror_mode": {
    "name": "ipython",
    "version": 3
   },
   "file_extension": ".py",
   "mimetype": "text/x-python",
   "name": "python",
   "nbconvert_exporter": "python",
   "pygments_lexer": "ipython3",
   "version": "3.10.12"
  }
 },
 "nbformat": 4,
 "nbformat_minor": 2
}
